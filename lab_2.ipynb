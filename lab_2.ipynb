{
 "cells": [
  {
   "cell_type": "code",
   "execution_count": 1,
   "id": "81d8d80a",
   "metadata": {},
   "outputs": [
    {
     "data": {
      "text/html": [
       "<div>\n",
       "<style scoped>\n",
       "    .dataframe tbody tr th:only-of-type {\n",
       "        vertical-align: middle;\n",
       "    }\n",
       "\n",
       "    .dataframe tbody tr th {\n",
       "        vertical-align: top;\n",
       "    }\n",
       "\n",
       "    .dataframe thead th {\n",
       "        text-align: right;\n",
       "    }\n",
       "</style>\n",
       "<table border=\"1\" class=\"dataframe\">\n",
       "  <thead>\n",
       "    <tr style=\"text-align: right;\">\n",
       "      <th></th>\n",
       "      <th>Document ID</th>\n",
       "      <th>Content</th>\n",
       "    </tr>\n",
       "  </thead>\n",
       "  <tbody>\n",
       "    <tr>\n",
       "      <th>0</th>\n",
       "      <td>1</td>\n",
       "      <td>{\\n   \"title\": \"Introduction to Python\",\\n   \"...</td>\n",
       "    </tr>\n",
       "    <tr>\n",
       "      <th>1</th>\n",
       "      <td>2</td>\n",
       "      <td>{\\n   \"title\": \"Data Analysis with Pandas\",\\n ...</td>\n",
       "    </tr>\n",
       "    <tr>\n",
       "      <th>2</th>\n",
       "      <td>3</td>\n",
       "      <td>{\\n   \"title\": \"Web Development with Flask\",\\n...</td>\n",
       "    </tr>\n",
       "    <tr>\n",
       "      <th>3</th>\n",
       "      <td>4</td>\n",
       "      <td>{\\n   \"title\": \"Machine Learning with Scikit-L...</td>\n",
       "    </tr>\n",
       "    <tr>\n",
       "      <th>4</th>\n",
       "      <td>5</td>\n",
       "      <td>{\\n   \"title\": \"Data Visualization with Matplo...</td>\n",
       "    </tr>\n",
       "  </tbody>\n",
       "</table>\n",
       "</div>"
      ],
      "text/plain": [
       "   Document ID                                            Content\n",
       "0            1  {\\n   \"title\": \"Introduction to Python\",\\n   \"...\n",
       "1            2  {\\n   \"title\": \"Data Analysis with Pandas\",\\n ...\n",
       "2            3  {\\n   \"title\": \"Web Development with Flask\",\\n...\n",
       "3            4  {\\n   \"title\": \"Machine Learning with Scikit-L...\n",
       "4            5  {\\n   \"title\": \"Data Visualization with Matplo..."
      ]
     },
     "execution_count": 1,
     "metadata": {},
     "output_type": "execute_result"
    }
   ],
   "source": [
    "# Import necessary libraries\n",
    "import pandas as pd\n",
    "import json\n",
    "\n",
    "# Load the CSV dataset\n",
    "df = pd.read_csv(\"semi_strut.csv\")\n",
    "\n",
    "# Display the first few rows of the dataset\n",
    "df.head()"
   ]
  },
  {
   "cell_type": "code",
   "execution_count": 10,
   "id": "a5ea1871",
   "metadata": {},
   "outputs": [],
   "source": [
    "# Tokenization function to extract terms from the JSON-like content\n",
    "# Remember to exact both \n",
    "# 1 .Extract terms from various fields (title, keywords, and content)\n",
    "# 2. Extract terms from sections' titles and content\n",
    "# 3. Tokenize the content and create a new column \"Terms\"\n",
    "# 4. Implement a preprocessing function that converts terms to lowercase, removes punctuation, and removes common stop words.\n",
    "    # Create another new column \"Terms_preprocessed\"\n",
    "# 5. you can display the DataFrame\n",
    "# def tokenize_content(content):"
   ]
  },
  {
   "cell_type": "code",
   "execution_count": 19,
   "id": "46e230e9",
   "metadata": {},
   "outputs": [
    {
     "data": {
      "text/plain": [
       "['Introduction',\n",
       " 'to',\n",
       " 'Python',\n",
       " 'John',\n",
       " 'Doe',\n",
       " 'Python',\n",
       " 'programming',\n",
       " 'beginner',\n",
       " 'Introduction',\n",
       " 'to',\n",
       " 'Python',\n",
       " 'Introduction',\n",
       " 'to',\n",
       " 'Python']"
      ]
     },
     "execution_count": 19,
     "metadata": {},
     "output_type": "execute_result"
    }
   ],
   "source": [
    "def tokenize_content(content):\n",
    "    # Load JSON content\n",
    "    content_data = json.loads(content)\n",
    "    \n",
    "    # Extract terms from various fields\n",
    "    terms = []\n",
    "\n",
    "    # Extract terms from 'title', 'author', and 'keywords' fields\n",
    "    terms.extend(content_data.get('title', '').split())\n",
    "    terms.extend(content_data.get('author', '').split())\n",
    "    terms.extend(content_data.get('keywords', []))\n",
    "\n",
    "    # Extract terms from sections' titles and content\n",
    "    sections = content_data.get('sections', [])\n",
    "    for section in sections:\n",
    "        terms.extend(content_data.get('title', '').split())\n",
    "        terms.extend(content_data.get('content', '').split())\n",
    "    \n",
    "    return terms\n",
    "\n",
    "\n",
    "# terms = tokenize_content(df['Content'][0])\n",
    "# terms\n",
    "tokenize_content(df[\"Content\"][0])"
   ]
  },
  {
   "cell_type": "code",
   "execution_count": 3,
   "id": "afda9ce7",
   "metadata": {},
   "outputs": [
    {
     "name": "stdout",
     "output_type": "stream",
     "text": [
      "   Document ID                                              Terms\n",
      "0            1  [Introduction, to, Python, John, Doe, Python, ...\n",
      "1            2  [Data, Analysis, with, Pandas, Jane, Smith, Py...\n",
      "2            3  [Web, Development, with, Flask, Mike, Johnson,...\n",
      "3            4  [Machine, Learning, with, Scikit-Learn, Emily,...\n",
      "4            5  [Data, Visualization, with, Matplotlib, Robert...\n"
     ]
    }
   ],
   "source": [
    " # 3 Apply the tokenization function to the 'Content' column and store the results in a new column 'Terms'\n",
    "df['Terms'] = df['Content'].apply(tokenize_content)\n",
    "\n",
    "# Display the DataFrame with the extracted terms\n",
    "print(df[['Document ID', 'Terms']])"
   ]
  },
  {
   "cell_type": "code",
   "execution_count": 14,
   "id": "06fb9207",
   "metadata": {},
   "outputs": [
    {
     "name": "stderr",
     "output_type": "stream",
     "text": [
      "[nltk_data] Downloading package stopwords to\n",
      "[nltk_data]     C:\\Users\\neang\\AppData\\Roaming\\nltk_data...\n",
      "[nltk_data]   Package stopwords is already up-to-date!\n"
     ]
    },
    {
     "data": {
      "text/html": [
       "<div>\n",
       "<style scoped>\n",
       "    .dataframe tbody tr th:only-of-type {\n",
       "        vertical-align: middle;\n",
       "    }\n",
       "\n",
       "    .dataframe tbody tr th {\n",
       "        vertical-align: top;\n",
       "    }\n",
       "\n",
       "    .dataframe thead th {\n",
       "        text-align: right;\n",
       "    }\n",
       "</style>\n",
       "<table border=\"1\" class=\"dataframe\">\n",
       "  <thead>\n",
       "    <tr style=\"text-align: right;\">\n",
       "      <th></th>\n",
       "      <th>Document ID</th>\n",
       "      <th>Content</th>\n",
       "      <th>Terms</th>\n",
       "      <th>Terms_preprocessed</th>\n",
       "    </tr>\n",
       "  </thead>\n",
       "  <tbody>\n",
       "    <tr>\n",
       "      <th>0</th>\n",
       "      <td>1</td>\n",
       "      <td>{\\n   \"title\": \"Introduction to Python\",\\n   \"...</td>\n",
       "      <td>[Introduction, to, Python, John, Doe, Python, ...</td>\n",
       "      <td>[introduction, python, john, doe, python, prog...</td>\n",
       "    </tr>\n",
       "    <tr>\n",
       "      <th>1</th>\n",
       "      <td>2</td>\n",
       "      <td>{\\n   \"title\": \"Data Analysis with Pandas\",\\n ...</td>\n",
       "      <td>[Data, Analysis, with, Pandas, Jane, Smith, Py...</td>\n",
       "      <td>[data, analysis, pandas, jane, smith, python, ...</td>\n",
       "    </tr>\n",
       "    <tr>\n",
       "      <th>2</th>\n",
       "      <td>3</td>\n",
       "      <td>{\\n   \"title\": \"Web Development with Flask\",\\n...</td>\n",
       "      <td>[Web, Development, with, Flask, Mike, Johnson,...</td>\n",
       "      <td>[web, development, flask, mike, johnson, pytho...</td>\n",
       "    </tr>\n",
       "    <tr>\n",
       "      <th>3</th>\n",
       "      <td>4</td>\n",
       "      <td>{\\n   \"title\": \"Machine Learning with Scikit-L...</td>\n",
       "      <td>[Machine, Learning, with, Scikit-Learn, Emily,...</td>\n",
       "      <td>[machine, learning, scikitlearn, emily, davis,...</td>\n",
       "    </tr>\n",
       "    <tr>\n",
       "      <th>4</th>\n",
       "      <td>5</td>\n",
       "      <td>{\\n   \"title\": \"Data Visualization with Matplo...</td>\n",
       "      <td>[Data, Visualization, with, Matplotlib, Robert...</td>\n",
       "      <td>[data, visualization, matplotlib, robert, clar...</td>\n",
       "    </tr>\n",
       "  </tbody>\n",
       "</table>\n",
       "</div>"
      ],
      "text/plain": [
       "   Document ID                                            Content  \\\n",
       "0            1  {\\n   \"title\": \"Introduction to Python\",\\n   \"...   \n",
       "1            2  {\\n   \"title\": \"Data Analysis with Pandas\",\\n ...   \n",
       "2            3  {\\n   \"title\": \"Web Development with Flask\",\\n...   \n",
       "3            4  {\\n   \"title\": \"Machine Learning with Scikit-L...   \n",
       "4            5  {\\n   \"title\": \"Data Visualization with Matplo...   \n",
       "\n",
       "                                               Terms  \\\n",
       "0  [Introduction, to, Python, John, Doe, Python, ...   \n",
       "1  [Data, Analysis, with, Pandas, Jane, Smith, Py...   \n",
       "2  [Web, Development, with, Flask, Mike, Johnson,...   \n",
       "3  [Machine, Learning, with, Scikit-Learn, Emily,...   \n",
       "4  [Data, Visualization, with, Matplotlib, Robert...   \n",
       "\n",
       "                                  Terms_preprocessed  \n",
       "0  [introduction, python, john, doe, python, prog...  \n",
       "1  [data, analysis, pandas, jane, smith, python, ...  \n",
       "2  [web, development, flask, mike, johnson, pytho...  \n",
       "3  [machine, learning, scikitlearn, emily, davis,...  \n",
       "4  [data, visualization, matplotlib, robert, clar...  "
      ]
     },
     "execution_count": 14,
     "metadata": {},
     "output_type": "execute_result"
    }
   ],
   "source": [
    "# 4. Implement a preprocessing function that converts terms to lowercase, removes punctuation, and removes common stop words.\n",
    "    # Create another new column \"Terms_preprocessed\"\n",
    "\n",
    "import nltk\n",
    "from nltk.corpus import stopwords\n",
    "import string\n",
    "\n",
    "# Download NLTK resources (if not already downloaded)\n",
    "# nltk.download('punkt')\n",
    "nltk.download('stopwords')\n",
    "\n",
    "def preprocess_terms(terms):\n",
    "    stop_words = set(stopwords.words('english'))\n",
    "\n",
    "    # Create a translation table to remove punctuation\n",
    "    translator = str.maketrans('', '', string.punctuation)\n",
    "    \n",
    "    preprocessed_terms = []\n",
    "    for term in terms:\n",
    "        term = term.lower()\n",
    "        # Remove punctuation\n",
    "        term = term.translate(translator)\n",
    "        # Check if the term is not a stop word\n",
    "        if term not in stop_words:\n",
    "            preprocessed_terms.append(term)\n",
    "    \n",
    "    return preprocessed_terms\n",
    "\n",
    "# Apply the preprocessing function to the 'Terms' column and create a new column 'Terms_preprocessed'\n",
    "df['Terms_preprocessed'] = df['Terms'].apply(preprocess_terms)\n",
    "\n",
    "# 5. you can display the DataFrame\n",
    "df"
   ]
  },
  {
   "cell_type": "code",
   "execution_count": 16,
   "id": "131fdcaf",
   "metadata": {},
   "outputs": [
    {
     "data": {
      "text/plain": [
       "{'introduction': {1},\n",
       " 'python': {1, 2, 3, 4, 5},\n",
       " 'john': {1},\n",
       " 'doe': {1},\n",
       " 'programming': {1},\n",
       " 'beginner': {1},\n",
       " 'data': {2, 5},\n",
       " 'analysis': {2},\n",
       " 'pandas': {2},\n",
       " 'jane': {2},\n",
       " 'smith': {2},\n",
       " 'data analysis': {2},\n",
       " 'web': {3},\n",
       " 'development': {3},\n",
       " 'flask': {3},\n",
       " 'mike': {3},\n",
       " 'johnson': {3},\n",
       " 'web development': {3},\n",
       " 'machine': {4},\n",
       " 'learning': {4},\n",
       " 'scikitlearn': {4},\n",
       " 'emily': {4},\n",
       " 'davis': {4},\n",
       " 'machine learning': {4},\n",
       " 'visualization': {5},\n",
       " 'matplotlib': {5},\n",
       " 'robert': {5},\n",
       " 'clark': {5},\n",
       " 'data visualization': {5}}"
      ]
     },
     "execution_count": 16,
     "metadata": {},
     "output_type": "execute_result"
    }
   ],
   "source": [
    "# Initialize an empty inverted index dictionary\n",
    "inverted_index = {}\n",
    "# Build the inverted index\n",
    "\n",
    "for i, doc in enumerate(df.Terms_preprocessed):\n",
    "    for term in doc:\n",
    "        if term in inverted_index:\n",
    "            inverted_index[term].add(i+1)\n",
    "        else: inverted_index[term] = {i+1}\n",
    "\n",
    "inverted_index"
   ]
  },
  {
   "cell_type": "code",
   "execution_count": 39,
   "id": "215d8348",
   "metadata": {},
   "outputs": [
    {
     "data": {
      "text/plain": [
       "{0, 1, 2, 3, 4}"
      ]
     },
     "execution_count": 39,
     "metadata": {},
     "output_type": "execute_result"
    }
   ],
   "source": [
    "# posting_list = inverted_index['python']\n",
    "# posting_list"
   ]
  },
  {
   "cell_type": "code",
   "execution_count": 7,
   "id": "4824b570",
   "metadata": {},
   "outputs": [],
   "source": [
    "# Initialize an empty inverted index dictionary the extracted terms "
   ]
  },
  {
   "cell_type": "code",
   "execution_count": 17,
   "id": "1b929397",
   "metadata": {},
   "outputs": [],
   "source": [
    "# perform boolean operations on postings lists for Boolean search operations\n",
    "# 1. \"Python\" OR \"Pandas\"\n",
    "def or_postings(posting1, posting2):\n",
    "    p1 = 0\n",
    "    p2 = 0\n",
    "    result = list()\n",
    "    while p1 < len(posting1) and p2 < len(posting2):\n",
    "        if posting1[p1] == posting2[p2]:\n",
    "            result.append(posting1[p1])\n",
    "            p1 += 1\n",
    "            p2 += 1\n",
    "        elif posting1[p1] > posting2[p2]:\n",
    "            result.append(posting2[p2])\n",
    "            p2 += 1\n",
    "        else:\n",
    "            result.append(posting1[p1])\n",
    "            p1 += 1\n",
    "    while p1 < len(posting1):\n",
    "        result.append(posting1[p1])\n",
    "        p1 += 1\n",
    "    while p2 < len(posting2):\n",
    "        result.append(posting2[p2])\n",
    "        p2 += 1\n",
    "    return result\n",
    "# 2. \"Python\" AND \"data\"\n",
    "def and_postings(posting1, posting2):\n",
    "    p1 = 0\n",
    "    p2 = 0\n",
    "    result = list()\n",
    "    while p1 < len(posting1) and p2 < len(posting2):\n",
    "        if posting1[p1] == posting2[p2]:\n",
    "            result.append(posting1[p1])\n",
    "            p1 += 1\n",
    "            p2 += 1\n",
    "        elif posting1[p1] > posting2[p2]:\n",
    "            p2 += 1\n",
    "        else:\n",
    "            p1 += 1\n",
    "    return result"
   ]
  },
  {
   "cell_type": "code",
   "execution_count": 18,
   "id": "80680485",
   "metadata": {},
   "outputs": [
    {
     "name": "stdout",
     "output_type": "stream",
     "text": [
      "[1, 2, 3, 4, 5]\n",
      "[2]\n"
     ]
    }
   ],
   "source": [
    "pl_1 = list(inverted_index['python'])\n",
    "pl_2 = list(inverted_index['pandas'])\n",
    "print(or_postings(pl_1, pl_2))\n",
    "print(and_postings(pl_1, pl_2))\n"
   ]
  },
  {
   "cell_type": "code",
   "execution_count": null,
   "id": "19e658f9",
   "metadata": {},
   "outputs": [],
   "source": []
  }
 ],
 "metadata": {
  "kernelspec": {
   "display_name": "base",
   "language": "python",
   "name": "python3"
  },
  "language_info": {
   "codemirror_mode": {
    "name": "ipython",
    "version": 3
   },
   "file_extension": ".py",
   "mimetype": "text/x-python",
   "name": "python",
   "nbconvert_exporter": "python",
   "pygments_lexer": "ipython3",
   "version": "3.11.4"
  }
 },
 "nbformat": 4,
 "nbformat_minor": 5
}
