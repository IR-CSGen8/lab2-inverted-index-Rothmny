{
 "cells": [
  {
   "cell_type": "code",
   "execution_count": 1,
   "id": "81d8d80a",
   "metadata": {},
   "outputs": [
    {
     "data": {
      "text/html": [
       "<div>\n",
       "<style scoped>\n",
       "    .dataframe tbody tr th:only-of-type {\n",
       "        vertical-align: middle;\n",
       "    }\n",
       "\n",
       "    .dataframe tbody tr th {\n",
       "        vertical-align: top;\n",
       "    }\n",
       "\n",
       "    .dataframe thead th {\n",
       "        text-align: right;\n",
       "    }\n",
       "</style>\n",
       "<table border=\"1\" class=\"dataframe\">\n",
       "  <thead>\n",
       "    <tr style=\"text-align: right;\">\n",
       "      <th></th>\n",
       "      <th>Document ID</th>\n",
       "      <th>Content</th>\n",
       "    </tr>\n",
       "  </thead>\n",
       "  <tbody>\n",
       "    <tr>\n",
       "      <th>0</th>\n",
       "      <td>1</td>\n",
       "      <td>{\\n   \"title\": \"Introduction to Python\",\\n   \"...</td>\n",
       "    </tr>\n",
       "    <tr>\n",
       "      <th>1</th>\n",
       "      <td>2</td>\n",
       "      <td>{\\n   \"title\": \"Data Analysis with Pandas\",\\n ...</td>\n",
       "    </tr>\n",
       "    <tr>\n",
       "      <th>2</th>\n",
       "      <td>3</td>\n",
       "      <td>{\\n   \"title\": \"Web Development with Flask\",\\n...</td>\n",
       "    </tr>\n",
       "    <tr>\n",
       "      <th>3</th>\n",
       "      <td>4</td>\n",
       "      <td>{\\n   \"title\": \"Machine Learning with Scikit-L...</td>\n",
       "    </tr>\n",
       "    <tr>\n",
       "      <th>4</th>\n",
       "      <td>5</td>\n",
       "      <td>{\\n   \"title\": \"Data Visualization with Matplo...</td>\n",
       "    </tr>\n",
       "  </tbody>\n",
       "</table>\n",
       "</div>"
      ],
      "text/plain": [
       "   Document ID                                            Content\n",
       "0            1  {\\n   \"title\": \"Introduction to Python\",\\n   \"...\n",
       "1            2  {\\n   \"title\": \"Data Analysis with Pandas\",\\n ...\n",
       "2            3  {\\n   \"title\": \"Web Development with Flask\",\\n...\n",
       "3            4  {\\n   \"title\": \"Machine Learning with Scikit-L...\n",
       "4            5  {\\n   \"title\": \"Data Visualization with Matplo..."
      ]
     },
     "execution_count": 1,
     "metadata": {},
     "output_type": "execute_result"
    }
   ],
   "source": [
    "# Import necessary libraries\n",
    "import pandas as pd\n",
    "import json\n",
    "\n",
    "# Load the CSV dataset\n",
    "df = pd.read_csv(\"semi_strut.csv\")\n",
    "\n",
    "# Display the first few rows of the dataset\n",
    "df.head()"
   ]
  },
  {
   "cell_type": "code",
   "execution_count": 10,
   "id": "a5ea1871",
   "metadata": {},
   "outputs": [],
   "source": [
    "# Tokenization function to extract terms from the JSON-like content\n",
    "# Remember to exact both \n",
    "# 1 .Extract terms from various fields (title, keywords, and content)\n",
    "# 2. Extract terms from sections' titles and content\n",
    "# 3. Tokenize the content and create a new column \"Terms\"\n",
    "# 4. Implement a preprocessing function that converts terms to lowercase, removes punctuation, and removes common stop words.\n",
    "    # Create another new column \"Terms_preprocessed\"\n",
    "# 5. you can display the DataFrame\n",
    "# def tokenize_content(content):"
   ]
  },
  {
   "cell_type": "code",
   "execution_count": 2,
   "id": "46e230e9",
   "metadata": {},
   "outputs": [
    {
     "data": {
      "text/plain": [
       "['Introduction',\n",
       " 'to',\n",
       " 'Python',\n",
       " 'John',\n",
       " 'Doe',\n",
       " 'Python',\n",
       " 'programming',\n",
       " 'beginner',\n",
       " 'Introduction',\n",
       " 'to',\n",
       " 'Python',\n",
       " 'Introduction',\n",
       " 'to',\n",
       " 'Python']"
      ]
     },
     "execution_count": 2,
     "metadata": {},
     "output_type": "execute_result"
    }
   ],
   "source": [
    "def tokenize_content(content):\n",
    "    # Load JSON content\n",
    "    content_data = json.loads(content)\n",
    "    \n",
    "    # Extract terms from various fields\n",
    "    terms = []\n",
    "\n",
    "    # Extract terms from 'title', 'author', and 'keywords' fields\n",
    "    terms.extend(content_data.get('title', '').split())\n",
    "    terms.extend(content_data.get('author', '').split())\n",
    "    terms.extend(content_data.get('keywords', []))\n",
    "\n",
    "    # Extract terms from sections' titles and content\n",
    "    sections = content_data.get('sections', [])\n",
    "    for section in sections:\n",
    "        terms.extend(content_data.get('title', '').split())\n",
    "        terms.extend(content_data.get('content', '').split())\n",
    "    \n",
    "    return terms\n",
    "\n",
    "\n",
    "terms = tokenize_content(df['Content'][0])\n",
    "terms"
   ]
  },
  {
   "cell_type": "code",
   "execution_count": 3,
   "id": "afda9ce7",
   "metadata": {},
   "outputs": [
    {
     "name": "stdout",
     "output_type": "stream",
     "text": [
      "   Document ID                                              Terms\n",
      "0            1  [Introduction, to, Python, John, Doe, Python, ...\n",
      "1            2  [Data, Analysis, with, Pandas, Jane, Smith, Py...\n",
      "2            3  [Web, Development, with, Flask, Mike, Johnson,...\n",
      "3            4  [Machine, Learning, with, Scikit-Learn, Emily,...\n",
      "4            5  [Data, Visualization, with, Matplotlib, Robert...\n"
     ]
    }
   ],
   "source": [
    " # 3 Apply the tokenization function to the 'Content' column and store the results in a new column 'Terms'\n",
    "df['Terms'] = df['Content'].apply(tokenize_content)\n",
    "\n",
    "# Display the DataFrame with the extracted terms\n",
    "print(df[['Document ID', 'Terms']])"
   ]
  },
  {
   "cell_type": "code",
   "execution_count": 10,
   "id": "06fb9207",
   "metadata": {},
   "outputs": [
    {
     "ename": "NameError",
     "evalue": "name 'stopwords' is not defined",
     "output_type": "error",
     "traceback": [
      "\u001b[1;31m---------------------------------------------------------------------------\u001b[0m",
      "\u001b[1;31mNameError\u001b[0m                                 Traceback (most recent call last)",
      "\u001b[1;32mf:\\CADT\\Data Science\\TERM6\\Information Retrieval\\Lab\\lab2-inverted-index-Rothmny\\lab_2.ipynb Cell 5\u001b[0m line \u001b[0;36m1\n\u001b[0;32m     <a href='vscode-notebook-cell:/f%3A/CADT/Data%20Science/TERM6/Information%20Retrieval/Lab/lab2-inverted-index-Rothmny/lab_2.ipynb#W4sZmlsZQ%3D%3D?line=11'>12</a>\u001b[0m     \u001b[39mreturn\u001b[39;00m preprocessed_terms\n\u001b[0;32m     <a href='vscode-notebook-cell:/f%3A/CADT/Data%20Science/TERM6/Information%20Retrieval/Lab/lab2-inverted-index-Rothmny/lab_2.ipynb#W4sZmlsZQ%3D%3D?line=13'>14</a>\u001b[0m \u001b[39m# Apply the preprocessing function to the 'Terms' column and create a new column 'Terms_preprocessed'\u001b[39;00m\n\u001b[1;32m---> <a href='vscode-notebook-cell:/f%3A/CADT/Data%20Science/TERM6/Information%20Retrieval/Lab/lab2-inverted-index-Rothmny/lab_2.ipynb#W4sZmlsZQ%3D%3D?line=14'>15</a>\u001b[0m df[\u001b[39m'\u001b[39m\u001b[39mTerms_preprocessed\u001b[39m\u001b[39m'\u001b[39m] \u001b[39m=\u001b[39m df[\u001b[39m'\u001b[39m\u001b[39mTerms\u001b[39m\u001b[39m'\u001b[39m]\u001b[39m.\u001b[39mapply(preprocess_terms)\n\u001b[0;32m     <a href='vscode-notebook-cell:/f%3A/CADT/Data%20Science/TERM6/Information%20Retrieval/Lab/lab2-inverted-index-Rothmny/lab_2.ipynb#W4sZmlsZQ%3D%3D?line=16'>17</a>\u001b[0m \u001b[39m# Display the DataFrame\u001b[39;00m\n\u001b[0;32m     <a href='vscode-notebook-cell:/f%3A/CADT/Data%20Science/TERM6/Information%20Retrieval/Lab/lab2-inverted-index-Rothmny/lab_2.ipynb#W4sZmlsZQ%3D%3D?line=17'>18</a>\u001b[0m df\n",
      "File \u001b[1;32mf:\\Anacoda\\Lib\\site-packages\\pandas\\core\\series.py:4771\u001b[0m, in \u001b[0;36mSeries.apply\u001b[1;34m(self, func, convert_dtype, args, **kwargs)\u001b[0m\n\u001b[0;32m   4661\u001b[0m \u001b[39mdef\u001b[39;00m \u001b[39mapply\u001b[39m(\n\u001b[0;32m   4662\u001b[0m     \u001b[39mself\u001b[39m,\n\u001b[0;32m   4663\u001b[0m     func: AggFuncType,\n\u001b[1;32m   (...)\u001b[0m\n\u001b[0;32m   4666\u001b[0m     \u001b[39m*\u001b[39m\u001b[39m*\u001b[39mkwargs,\n\u001b[0;32m   4667\u001b[0m ) \u001b[39m-\u001b[39m\u001b[39m>\u001b[39m DataFrame \u001b[39m|\u001b[39m Series:\n\u001b[0;32m   4668\u001b[0m \u001b[39m    \u001b[39m\u001b[39m\"\"\"\u001b[39;00m\n\u001b[0;32m   4669\u001b[0m \u001b[39m    Invoke function on values of Series.\u001b[39;00m\n\u001b[0;32m   4670\u001b[0m \n\u001b[1;32m   (...)\u001b[0m\n\u001b[0;32m   4769\u001b[0m \u001b[39m    dtype: float64\u001b[39;00m\n\u001b[0;32m   4770\u001b[0m \u001b[39m    \"\"\"\u001b[39;00m\n\u001b[1;32m-> 4771\u001b[0m     \u001b[39mreturn\u001b[39;00m SeriesApply(\u001b[39mself\u001b[39m, func, convert_dtype, args, kwargs)\u001b[39m.\u001b[39mapply()\n",
      "File \u001b[1;32mf:\\Anacoda\\Lib\\site-packages\\pandas\\core\\apply.py:1123\u001b[0m, in \u001b[0;36mSeriesApply.apply\u001b[1;34m(self)\u001b[0m\n\u001b[0;32m   1120\u001b[0m     \u001b[39mreturn\u001b[39;00m \u001b[39mself\u001b[39m\u001b[39m.\u001b[39mapply_str()\n\u001b[0;32m   1122\u001b[0m \u001b[39m# self.f is Callable\u001b[39;00m\n\u001b[1;32m-> 1123\u001b[0m \u001b[39mreturn\u001b[39;00m \u001b[39mself\u001b[39m\u001b[39m.\u001b[39mapply_standard()\n",
      "File \u001b[1;32mf:\\Anacoda\\Lib\\site-packages\\pandas\\core\\apply.py:1174\u001b[0m, in \u001b[0;36mSeriesApply.apply_standard\u001b[1;34m(self)\u001b[0m\n\u001b[0;32m   1172\u001b[0m     \u001b[39melse\u001b[39;00m:\n\u001b[0;32m   1173\u001b[0m         values \u001b[39m=\u001b[39m obj\u001b[39m.\u001b[39mastype(\u001b[39mobject\u001b[39m)\u001b[39m.\u001b[39m_values\n\u001b[1;32m-> 1174\u001b[0m         mapped \u001b[39m=\u001b[39m lib\u001b[39m.\u001b[39mmap_infer(\n\u001b[0;32m   1175\u001b[0m             values,\n\u001b[0;32m   1176\u001b[0m             f,\n\u001b[0;32m   1177\u001b[0m             convert\u001b[39m=\u001b[39m\u001b[39mself\u001b[39m\u001b[39m.\u001b[39mconvert_dtype,\n\u001b[0;32m   1178\u001b[0m         )\n\u001b[0;32m   1180\u001b[0m \u001b[39mif\u001b[39;00m \u001b[39mlen\u001b[39m(mapped) \u001b[39mand\u001b[39;00m \u001b[39misinstance\u001b[39m(mapped[\u001b[39m0\u001b[39m], ABCSeries):\n\u001b[0;32m   1181\u001b[0m     \u001b[39m# GH#43986 Need to do list(mapped) in order to get treated as nested\u001b[39;00m\n\u001b[0;32m   1182\u001b[0m     \u001b[39m#  See also GH#25959 regarding EA support\u001b[39;00m\n\u001b[0;32m   1183\u001b[0m     \u001b[39mreturn\u001b[39;00m obj\u001b[39m.\u001b[39m_constructor_expanddim(\u001b[39mlist\u001b[39m(mapped), index\u001b[39m=\u001b[39mobj\u001b[39m.\u001b[39mindex)\n",
      "File \u001b[1;32mf:\\Anacoda\\Lib\\site-packages\\pandas\\_libs\\lib.pyx:2924\u001b[0m, in \u001b[0;36mpandas._libs.lib.map_infer\u001b[1;34m()\u001b[0m\n",
      "\u001b[1;32mf:\\CADT\\Data Science\\TERM6\\Information Retrieval\\Lab\\lab2-inverted-index-Rothmny\\lab_2.ipynb Cell 5\u001b[0m line \u001b[0;36m2\n\u001b[0;32m      <a href='vscode-notebook-cell:/f%3A/CADT/Data%20Science/TERM6/Information%20Retrieval/Lab/lab2-inverted-index-Rothmny/lab_2.ipynb#W4sZmlsZQ%3D%3D?line=0'>1</a>\u001b[0m \u001b[39mdef\u001b[39;00m \u001b[39mpreprocess_terms\u001b[39m(terms):\n\u001b[1;32m----> <a href='vscode-notebook-cell:/f%3A/CADT/Data%20Science/TERM6/Information%20Retrieval/Lab/lab2-inverted-index-Rothmny/lab_2.ipynb#W4sZmlsZQ%3D%3D?line=1'>2</a>\u001b[0m     stop_words \u001b[39m=\u001b[39m \u001b[39mset\u001b[39m(stopwords\u001b[39m.\u001b[39mwords(\u001b[39m'\u001b[39m\u001b[39menglish\u001b[39m\u001b[39m'\u001b[39m))\n\u001b[0;32m      <a href='vscode-notebook-cell:/f%3A/CADT/Data%20Science/TERM6/Information%20Retrieval/Lab/lab2-inverted-index-Rothmny/lab_2.ipynb#W4sZmlsZQ%3D%3D?line=2'>3</a>\u001b[0m     translator \u001b[39m=\u001b[39m \u001b[39mstr\u001b[39m\u001b[39m.\u001b[39mmaketrans(\u001b[39m'\u001b[39m\u001b[39m'\u001b[39m, \u001b[39m'\u001b[39m\u001b[39m'\u001b[39m, string\u001b[39m.\u001b[39mpunctuation)\n\u001b[0;32m      <a href='vscode-notebook-cell:/f%3A/CADT/Data%20Science/TERM6/Information%20Retrieval/Lab/lab2-inverted-index-Rothmny/lab_2.ipynb#W4sZmlsZQ%3D%3D?line=4'>5</a>\u001b[0m     preprocessed_terms \u001b[39m=\u001b[39m []\n",
      "\u001b[1;31mNameError\u001b[0m: name 'stopwords' is not defined"
     ]
    }
   ],
   "source": [
    "def preprocess_terms(terms):\n",
    "    stop_words = set(stopwords.words('english'))\n",
    "    translator = str.maketrans('', '', string.punctuation)\n",
    "    \n",
    "    preprocessed_terms = []\n",
    "    for term in terms:\n",
    "        term = term.lower()\n",
    "        term = term.translate(translator)\n",
    "        if term not in stop_words:\n",
    "            preprocessed_terms.append(term)\n",
    "    \n",
    "    return preprocessed_terms\n",
    "\n",
    "# Apply the preprocessing function to the 'Terms' column and create a new column 'Terms_preprocessed'\n",
    "df['Terms_preprocessed'] = df['Terms'].apply(preprocess_terms)\n",
    "\n",
    "# Display the DataFrame\n",
    "df"
   ]
  },
  {
   "cell_type": "code",
   "execution_count": 7,
   "id": "131fdcaf",
   "metadata": {},
   "outputs": [
    {
     "ename": "AttributeError",
     "evalue": "'DataFrame' object has no attribute 'Terms_preprocessed'",
     "output_type": "error",
     "traceback": [
      "\u001b[1;31m---------------------------------------------------------------------------\u001b[0m",
      "\u001b[1;31mAttributeError\u001b[0m                            Traceback (most recent call last)",
      "\u001b[1;32mf:\\CADT\\Data Science\\TERM6\\Information Retrieval\\Lab\\lab2-inverted-index-Rothmny\\lab_2.ipynb Cell 6\u001b[0m line \u001b[0;36m5\n\u001b[0;32m      <a href='vscode-notebook-cell:/f%3A/CADT/Data%20Science/TERM6/Information%20Retrieval/Lab/lab2-inverted-index-Rothmny/lab_2.ipynb#X20sZmlsZQ%3D%3D?line=1'>2</a>\u001b[0m inverted_index \u001b[39m=\u001b[39m {}\n\u001b[0;32m      <a href='vscode-notebook-cell:/f%3A/CADT/Data%20Science/TERM6/Information%20Retrieval/Lab/lab2-inverted-index-Rothmny/lab_2.ipynb#X20sZmlsZQ%3D%3D?line=2'>3</a>\u001b[0m \u001b[39m# Build the inverted index\u001b[39;00m\n\u001b[1;32m----> <a href='vscode-notebook-cell:/f%3A/CADT/Data%20Science/TERM6/Information%20Retrieval/Lab/lab2-inverted-index-Rothmny/lab_2.ipynb#X20sZmlsZQ%3D%3D?line=4'>5</a>\u001b[0m \u001b[39mfor\u001b[39;00m i, doc \u001b[39min\u001b[39;00m \u001b[39menumerate\u001b[39m(df\u001b[39m.\u001b[39mTerms_preprocessed):\n\u001b[0;32m      <a href='vscode-notebook-cell:/f%3A/CADT/Data%20Science/TERM6/Information%20Retrieval/Lab/lab2-inverted-index-Rothmny/lab_2.ipynb#X20sZmlsZQ%3D%3D?line=5'>6</a>\u001b[0m     \u001b[39mfor\u001b[39;00m term \u001b[39min\u001b[39;00m doc\u001b[39m.\u001b[39msplit():\n\u001b[0;32m      <a href='vscode-notebook-cell:/f%3A/CADT/Data%20Science/TERM6/Information%20Retrieval/Lab/lab2-inverted-index-Rothmny/lab_2.ipynb#X20sZmlsZQ%3D%3D?line=6'>7</a>\u001b[0m         \u001b[39mif\u001b[39;00m term \u001b[39min\u001b[39;00m inverted_index:\n",
      "File \u001b[1;32mf:\\Anacoda\\Lib\\site-packages\\pandas\\core\\generic.py:5902\u001b[0m, in \u001b[0;36mNDFrame.__getattr__\u001b[1;34m(self, name)\u001b[0m\n\u001b[0;32m   5895\u001b[0m \u001b[39mif\u001b[39;00m (\n\u001b[0;32m   5896\u001b[0m     name \u001b[39mnot\u001b[39;00m \u001b[39min\u001b[39;00m \u001b[39mself\u001b[39m\u001b[39m.\u001b[39m_internal_names_set\n\u001b[0;32m   5897\u001b[0m     \u001b[39mand\u001b[39;00m name \u001b[39mnot\u001b[39;00m \u001b[39min\u001b[39;00m \u001b[39mself\u001b[39m\u001b[39m.\u001b[39m_metadata\n\u001b[0;32m   5898\u001b[0m     \u001b[39mand\u001b[39;00m name \u001b[39mnot\u001b[39;00m \u001b[39min\u001b[39;00m \u001b[39mself\u001b[39m\u001b[39m.\u001b[39m_accessors\n\u001b[0;32m   5899\u001b[0m     \u001b[39mand\u001b[39;00m \u001b[39mself\u001b[39m\u001b[39m.\u001b[39m_info_axis\u001b[39m.\u001b[39m_can_hold_identifiers_and_holds_name(name)\n\u001b[0;32m   5900\u001b[0m ):\n\u001b[0;32m   5901\u001b[0m     \u001b[39mreturn\u001b[39;00m \u001b[39mself\u001b[39m[name]\n\u001b[1;32m-> 5902\u001b[0m \u001b[39mreturn\u001b[39;00m \u001b[39mobject\u001b[39m\u001b[39m.\u001b[39m\u001b[39m__getattribute__\u001b[39m(\u001b[39mself\u001b[39m, name)\n",
      "\u001b[1;31mAttributeError\u001b[0m: 'DataFrame' object has no attribute 'Terms_preprocessed'"
     ]
    }
   ],
   "source": [
    "# Initialize an empty inverted index dictionary\n",
    "inverted_index = {}\n",
    "# Build the inverted index\n",
    "\n",
    "for i, doc in enumerate(df.Terms_preprocessed):\n",
    "    for term in doc.split():\n",
    "        if term in inverted_index:\n",
    "            inverted_index[term].add(i+1)\n",
    "        else: inverted_index[term] = {i+1}\n",
    "\n",
    "inverted_index"
   ]
  },
  {
   "cell_type": "code",
   "execution_count": 39,
   "id": "215d8348",
   "metadata": {},
   "outputs": [
    {
     "data": {
      "text/plain": [
       "{0, 1, 2, 3, 4}"
      ]
     },
     "execution_count": 39,
     "metadata": {},
     "output_type": "execute_result"
    }
   ],
   "source": [
    "# posting_list = inverted_index['python']\n",
    "# posting_list"
   ]
  },
  {
   "cell_type": "code",
   "execution_count": 7,
   "id": "4824b570",
   "metadata": {},
   "outputs": [],
   "source": [
    "# Initialize an empty inverted index dictionary the extracted terms "
   ]
  },
  {
   "cell_type": "code",
   "execution_count": 5,
   "id": "1b929397",
   "metadata": {},
   "outputs": [],
   "source": [
    "# perform boolean operations on postings lists for Boolean search operations\n",
    "# 1. \"Python\" OR \"Pandas\"\n",
    "def or_postings(posting1, posting2):\n",
    "    p1 = 0\n",
    "    p2 = 0\n",
    "    result = list()\n",
    "    while p1 < len(posting1) and p2 < len(posting2):\n",
    "        if posting1[p1] == posting2[p2]:\n",
    "            result.append(posting1[p1])\n",
    "            p1 += 1\n",
    "            p2 += 1\n",
    "        elif posting1[p1] > posting2[p2]:\n",
    "            result.append(posting2[p2])\n",
    "            p2 += 1\n",
    "        else:\n",
    "            result.append(posting1[p1])\n",
    "            p1 += 1\n",
    "    while p1 < len(posting1):\n",
    "        result.append(posting1[p1])\n",
    "        p1 += 1\n",
    "    while p2 < len(posting2):\n",
    "        result.append(posting2[p2])\n",
    "        p2 += 1\n",
    "    return result\n",
    "# 2. \"Python\" AND \"data\"\n",
    "def and_postings(posting1, posting2):\n",
    "    p1 = 0\n",
    "    p2 = 0\n",
    "    result = list()\n",
    "    while p1 < len(posting1) and p2 < len(posting2):\n",
    "        if posting1[p1] == posting2[p2]:\n",
    "            result.append(posting1[p1])\n",
    "            p1 += 1\n",
    "            p2 += 1\n",
    "        elif posting1[p1] > posting2[p2]:\n",
    "            p2 += 1\n",
    "        else:\n",
    "            p1 += 1\n",
    "    return result"
   ]
  },
  {
   "cell_type": "code",
   "execution_count": 6,
   "id": "80680485",
   "metadata": {},
   "outputs": [
    {
     "ename": "NameError",
     "evalue": "name 'inverted_index' is not defined",
     "output_type": "error",
     "traceback": [
      "\u001b[1;31m---------------------------------------------------------------------------\u001b[0m",
      "\u001b[1;31mNameError\u001b[0m                                 Traceback (most recent call last)",
      "\u001b[1;32mf:\\CADT\\Data Science\\TERM6\\Information Retrieval\\Lab\\lab2-inverted-index-Rothmny\\lab_2.ipynb Cell 10\u001b[0m line \u001b[0;36m1\n\u001b[1;32m----> <a href='vscode-notebook-cell:/f%3A/CADT/Data%20Science/TERM6/Information%20Retrieval/Lab/lab2-inverted-index-Rothmny/lab_2.ipynb#X24sZmlsZQ%3D%3D?line=0'>1</a>\u001b[0m pl_1 \u001b[39m=\u001b[39m \u001b[39mlist\u001b[39m(inverted_index[\u001b[39m'\u001b[39m\u001b[39mpython\u001b[39m\u001b[39m'\u001b[39m])\n\u001b[0;32m      <a href='vscode-notebook-cell:/f%3A/CADT/Data%20Science/TERM6/Information%20Retrieval/Lab/lab2-inverted-index-Rothmny/lab_2.ipynb#X24sZmlsZQ%3D%3D?line=1'>2</a>\u001b[0m pl_2 \u001b[39m=\u001b[39m \u001b[39mlist\u001b[39m(inverted_index[\u001b[39m'\u001b[39m\u001b[39mpandas\u001b[39m\u001b[39m'\u001b[39m])\n\u001b[0;32m      <a href='vscode-notebook-cell:/f%3A/CADT/Data%20Science/TERM6/Information%20Retrieval/Lab/lab2-inverted-index-Rothmny/lab_2.ipynb#X24sZmlsZQ%3D%3D?line=2'>3</a>\u001b[0m \u001b[39mprint\u001b[39m(or_postings(pl_1, pl_2))\n",
      "\u001b[1;31mNameError\u001b[0m: name 'inverted_index' is not defined"
     ]
    }
   ],
   "source": [
    "pl_1 = list(inverted_index['python'])\n",
    "pl_2 = list(inverted_index['pandas'])\n",
    "print(or_postings(pl_1, pl_2))\n",
    "print(and_postings(pl_1, pl_2))\n"
   ]
  },
  {
   "cell_type": "code",
   "execution_count": null,
   "id": "19e658f9",
   "metadata": {},
   "outputs": [],
   "source": []
  }
 ],
 "metadata": {
  "kernelspec": {
   "display_name": "base",
   "language": "python",
   "name": "python3"
  },
  "language_info": {
   "codemirror_mode": {
    "name": "ipython",
    "version": 3
   },
   "file_extension": ".py",
   "mimetype": "text/x-python",
   "name": "python",
   "nbconvert_exporter": "python",
   "pygments_lexer": "ipython3",
   "version": "3.11.4"
  }
 },
 "nbformat": 4,
 "nbformat_minor": 5
}
